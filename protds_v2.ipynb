{
 "cells": [
  {
   "cell_type": "markdown",
   "id": "f0c445a4",
   "metadata": {},
   "source": [
    "# Initializations"
   ]
  },
  {
   "cell_type": "code",
   "execution_count": null,
   "id": "6a38ecec",
   "metadata": {},
   "outputs": [],
   "source": [
    "from protds_v2 import *\n",
    "\n",
    "filename = 'Peptide_IndexByID_Version_test.csv'\n",
    "data = pd.read_csv(os.path.join(\"data\",filename)) \n",
    "df = modData(data)"
   ]
  },
  {
   "cell_type": "code",
   "execution_count": null,
   "id": "6cedcf4d",
   "metadata": {},
   "outputs": [],
   "source": [
    "#show rows with Modifications\n",
    "#pd.set_option(\"display.max_rows\", None) #show all of them\n",
    "df "
   ]
  },
  {
   "cell_type": "markdown",
   "id": "98571b45",
   "metadata": {},
   "source": [
    "# Distances and 3D Structures"
   ]
  },
  {
   "cell_type": "code",
   "execution_count": null,
   "id": "ae987fc2",
   "metadata": {},
   "outputs": [],
   "source": [
    "rowIndex = 7376 #choose any row\n",
    "getDistances(data.loc[rowIndex]) #get distances for all structures"
   ]
  },
  {
   "cell_type": "code",
   "execution_count": null,
   "id": "999c994a",
   "metadata": {},
   "outputs": [],
   "source": [
    "getView(data.loc[rowIndex]) #get a 3D structure"
   ]
  }
 ],
 "metadata": {
  "kernelspec": {
   "display_name": "Python (snowflakes)",
   "language": "python",
   "name": "snowflakes"
  },
  "language_info": {
   "codemirror_mode": {
    "name": "ipython",
    "version": 3
   },
   "file_extension": ".py",
   "mimetype": "text/x-python",
   "name": "python",
   "nbconvert_exporter": "python",
   "pygments_lexer": "ipython3",
   "version": "3.8.11"
  }
 },
 "nbformat": 4,
 "nbformat_minor": 5
}
