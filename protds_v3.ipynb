{
 "cells": [
  {
   "cell_type": "markdown",
   "id": "f0c445a4",
   "metadata": {},
   "source": [
    "# Initializations"
   ]
  },
  {
   "cell_type": "code",
   "execution_count": null,
   "id": "6a38ecec",
   "metadata": {},
   "outputs": [],
   "source": [
    "from protds.protds_v3 import *\n",
    "\n",
    "filename = 'Peptide_IndexByID_Version_test.csv'\n",
    "data = pd.read_csv(os.path.join(\"data\",filename)) \n",
    "df = modData(data)"
   ]
  },
  {
   "cell_type": "code",
   "execution_count": null,
   "id": "6cedcf4d",
   "metadata": {},
   "outputs": [],
   "source": [
    "#show rows with Modifications\n",
    "#pd.set_option(\"display.max_rows\", None) #show all of them\n",
    "df "
   ]
  },
  {
   "cell_type": "markdown",
   "id": "98571b45",
   "metadata": {},
   "source": [
    "# Distances\n",
    "- unit measure is 1 Angstrom\n",
    "- for each site, distance is defined by the euclidean distance between centerOfMass(ModifiedLocation) and centerOfMass(siteLocation)"
   ]
  },
  {
   "cell_type": "code",
   "execution_count": null,
   "id": "ae987fc2",
   "metadata": {},
   "outputs": [],
   "source": [
    "rowIndex = 9970 #choose any row\n",
    "getDistances(data.loc[rowIndex], best=True) #best=True shows only the structure with highest alignment score"
   ]
  },
  {
   "cell_type": "markdown",
   "id": "1cbf5936",
   "metadata": {},
   "source": [
    "# 3D Structure\n",
    "- UniProt sites colored red\n",
    "- ModifiedLocationNum colored black"
   ]
  },
  {
   "cell_type": "code",
   "execution_count": null,
   "id": "999c994a",
   "metadata": {},
   "outputs": [],
   "source": [
    "getEntryView(data.loc[rowIndex], full=True) #full=True shows all chains"
   ]
  },
  {
   "cell_type": "markdown",
   "id": "1051c792",
   "metadata": {},
   "source": [
    "# Output\n",
    "- summary and long tables saved in the output folder\n",
    "- STILL TESTING: too many entries might give error; may have to work in separate batches and combine for full dataset"
   ]
  },
  {
   "cell_type": "code",
   "execution_count": null,
   "id": "ee7cdaa2",
   "metadata": {},
   "outputs": [],
   "source": [
    "sub = df[:10] #the first 10 modified rows is used as an example\n",
    "loadProteins() #for demonstration purposes, they have been searched and saved beforehand for quick loading\n",
    "fname = 'example'\n",
    "getOutput(sub, fname)"
   ]
  }
 ],
 "metadata": {
  "kernelspec": {
   "display_name": "Python (snowflakes)",
   "language": "python",
   "name": "snowflakes"
  },
  "language_info": {
   "codemirror_mode": {
    "name": "ipython",
    "version": 3
   },
   "file_extension": ".py",
   "mimetype": "text/x-python",
   "name": "python",
   "nbconvert_exporter": "python",
   "pygments_lexer": "ipython3",
   "version": "3.8.11"
  }
 },
 "nbformat": 4,
 "nbformat_minor": 5
}
