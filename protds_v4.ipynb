{
 "cells": [
  {
   "cell_type": "markdown",
   "id": "5dacd134-5a72-4166-841e-c9a092305cb8",
   "metadata": {},
   "source": [
    "# Initializations\n",
    "- Dataset columns should include \"ProteinID\" and \"ModifiedLocationNum\" "
   ]
  },
  {
   "cell_type": "code",
   "execution_count": 1,
   "id": "a3005070-0d4b-4dc1-96b6-ef0929f5aa76",
   "metadata": {},
   "outputs": [],
   "source": [
    "from protds.protds_alphafold import *\n",
    "\n",
    "alphafold_download_folder(\"/home/sduong/Desktop/alphafold-yeast\") #specify where Alphafold downloads are\n",
    "\n",
    "filename = 'En47C_Chaperone_allSites.csv'\n",
    "path = r'data' #can replace \"data\" with any path \n",
    "data = pd.read_csv(os.path.join(path ,filename))\n",
    "df = data[pd.notna(data.ModifiedLocationNum)].copy() #keep only rows with ModifiedLocationNumber"
   ]
  },
  {
   "cell_type": "markdown",
   "id": "3692d9ae-0d75-4330-bc16-a12ef57483ad",
   "metadata": {},
   "source": [
    "# Distances\n",
    "- unit measure is 1 Angstrom\n",
    "- for each Feature site, distance is defined by the euclidean distance between centerOfMass(ModifiedLocation) and centerOfMass(siteLocation)"
   ]
  },
  {
   "cell_type": "code",
   "execution_count": 2,
   "id": "ab4cdca8-f1d9-4a4c-bf2a-a83e9173c985",
   "metadata": {},
   "outputs": [],
   "source": [
    "#Calculate Distances (takes a while)\n",
    "df[\"Feature\"] = [[] for i in df.index]\n",
    "df[\"Feature_Location\"] = df[\"Feature\"] = [[] for i in df.index]\n",
    "df[\"Distance_to_ModifiedLocationNum\"] = [[] for i in df.index]\n",
    "dist_list = []; feat_list = []; feat_loc_list=[]\n",
    "\n",
    "for i in df.index:\n",
    "    entry = df.loc[i]\n",
    "    feats, feat_locs, dists = get_distance_to_features(entry.ProteinID, entry.ModifiedLocationNum)\n",
    "    dist_list.append(dists)\n",
    "    feat_list.append(feats)\n",
    "    feat_loc_list.append(feat_locs)\n",
    "    \n",
    "df[\"Feature\"] = feat_list\n",
    "df[\"Feature_Location\"] = feat_loc_list\n",
    "df[\"Distance_to_ModifiedLocationNum\"] = dist_list\n",
    "\n",
    "df_long = df.explode(column=[\"Feature\", \"Feature_Location\", \"Distance_to_ModifiedLocationNum\"])"
   ]
  },
  {
   "cell_type": "markdown",
   "id": "67cc71a1-f090-4924-8497-a97151989e0d",
   "metadata": {},
   "source": [
    "# Output\n",
    "- summary and long tables saved in the output folder"
   ]
  },
  {
   "cell_type": "code",
   "execution_count": 3,
   "id": "94a58c75-0968-4048-a197-10ce476618d6",
   "metadata": {},
   "outputs": [],
   "source": [
    "#Save Results\n",
    "output_path = r'output' #location of output directory\n",
    "df.to_csv(os.path.join(output_path, ''.join(filename.split('.')[:-1])+\"-summary.csv\"), index=False)\n",
    "df_long.to_csv(os.path.join(output_path, ''.join(filename.split('.')[:-1])+\"-long.csv\"), index=False)"
   ]
  }
 ],
 "metadata": {
  "kernelspec": {
   "display_name": "Python 3 (ipykernel)",
   "language": "python",
   "name": "python3"
  },
  "language_info": {
   "codemirror_mode": {
    "name": "ipython",
    "version": 3
   },
   "file_extension": ".py",
   "mimetype": "text/x-python",
   "name": "python",
   "nbconvert_exporter": "python",
   "pygments_lexer": "ipython3",
   "version": "3.9.16"
  }
 },
 "nbformat": 4,
 "nbformat_minor": 5
}
