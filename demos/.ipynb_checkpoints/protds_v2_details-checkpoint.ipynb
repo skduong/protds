{
 "cells": [
  {
   "cell_type": "markdown",
   "id": "249a461d",
   "metadata": {},
   "source": [
    "# Set Up\n",
    "- set file name and run this cell once to start\n",
    "- datasets should be stored in the data folder\n",
    "- The program refers to entries through column names, so any csv will work as long as the header names contain:  \n",
    "    \"ProteinID\", \"ModifiedLocationNum\", and \"ModifiedSequence\""
   ]
  },
  {
   "cell_type": "code",
   "execution_count": null,
   "id": "1365b23e",
   "metadata": {},
   "outputs": [],
   "source": [
    "import sys \n",
    "sys.path.append('..')\n",
    "from protds_v2 import *\n",
    "\n",
    "filename = 'Peptide_IndexByID_Version_test.csv'\n",
    "data = pd.read_csv(os.path.join(os.pardir,\"data\",filename))\n",
    "df = modData(data)"
   ]
  },
  {
   "cell_type": "code",
   "execution_count": null,
   "id": "208d0473",
   "metadata": {},
   "outputs": [],
   "source": [
    "#show rows with Modifications\n",
    "#pd.set_option(\"display.max_rows\", None) #show all of them\n",
    "df "
   ]
  },
  {
   "cell_type": "markdown",
   "id": "43a3bc4c",
   "metadata": {},
   "source": [
    "Select any of the modified row numbers and set it as the rowIndex:"
   ]
  },
  {
   "cell_type": "code",
   "execution_count": null,
   "id": "0cf373e0",
   "metadata": {},
   "outputs": [],
   "source": [
    "rowIndex = 6540"
   ]
  },
  {
   "cell_type": "markdown",
   "id": "92877f3b",
   "metadata": {},
   "source": [
    "# Distances"
   ]
  },
  {
   "cell_type": "markdown",
   "id": "37d690e3",
   "metadata": {},
   "source": [
    "About Distances:\n",
    "- unit measure is 1 Angstrom\n",
    "- for each site, distance is defined by the euclidean distance between centerOfMass(ModifiedLocation) and centerOfMass(siteLocation)"
   ]
  },
  {
   "cell_type": "markdown",
   "id": "14a32235",
   "metadata": {},
   "source": [
    "The distances betweeen a modified location and UniProt sites can be found given these assumptions:  \n",
    "- the ProteinID has active sites (on UniProt)\n",
    "- ModifiedLocationNum is within range of what's provided by the structure data\n",
    "- UniProt's site location is within range of what's provided by the structure data"
   ]
  },
  {
   "cell_type": "markdown",
   "id": "ecf6b04f",
   "metadata": {},
   "source": [
    "### <font color='red'> Work in Progress </font>   \n",
    "If the assumptions are violated, various results may occur:\n",
    "   - distances displayed as NaN for invalid entries\n",
    "   - some structures load while others don't\n",
    "   - nothing displayed\n",
    "   - error message (of many types)\n",
    "  \n",
    "[Have not figured out what to do about these yet. (May make note of them in the future, but for now, there are too many unaccounted cases)]   \n",
    "  \n",
    "[Still working on grouping structures together; it currently displays all of them, ordered by how ProteinDataBank lists them] \n",
    "  \n",
    "[Also plan on adding more details (eg.site location) on the table later on]  \n",
    "  "
   ]
  },
  {
   "cell_type": "code",
   "execution_count": null,
   "id": "9491e562",
   "metadata": {},
   "outputs": [],
   "source": [
    "getDistances(processRow(rowIndex, df), data) "
   ]
  },
  {
   "cell_type": "markdown",
   "id": "ba30acca",
   "metadata": {},
   "source": [
    "# Visualization"
   ]
  },
  {
   "cell_type": "markdown",
   "id": "916b8a39",
   "metadata": {},
   "source": [
    "The getView() function returns a iCn3D structure view:\n",
    "- if the ProteinID has >1 PDB structure, the user is asked to choose\n",
    "- ModifiedLocationNum is colored white\n",
    "- Binding sites from UniProt are colored yellow\n",
    "- Only relevant chains are considered"
   ]
  },
  {
   "cell_type": "markdown",
   "id": "044e4b07",
   "metadata": {},
   "source": [
    "### <font color='red'>Minor Issue</font>  \n",
    "- some chains my have default colors of white or yellow, so highlights are missed; (can fix by choosing different colors)\n",
    "\n",
    "### <font color='red'>Other Issue</font>  \n",
    "- the highlighted sites are based on UniProt's database\n",
    "- sometimes, iCn3D's viewer will show different \"Functional Sites\" than UniProt's list if the option is selected"
   ]
  },
  {
   "cell_type": "markdown",
   "id": "50b4f072",
   "metadata": {},
   "source": [
    "### <font color='red'> Changes Since Last Version </font>   \n",
    "- Previously, the input was focused on ProteinID\n",
    "- It now takes in row number instead (assuming that the user know which row they want to look at)\n",
    "- (This reduces the number of prompts and input requests)\n",
    "    - no more option to select ModifiedLocation for \"all\" rows containing a specific ProteinID since each row may correspond to different chains"
   ]
  },
  {
   "cell_type": "code",
   "execution_count": null,
   "id": "bce8c72a",
   "metadata": {},
   "outputs": [],
   "source": [
    "getView(processRow(rowIndex, df), data)"
   ]
  },
  {
   "cell_type": "markdown",
   "id": "4ae0977c",
   "metadata": {},
   "source": [
    "# Old Viewer\n",
    "This feature will be removed in future versions (unless requested otherwise)"
   ]
  },
  {
   "cell_type": "markdown",
   "id": "d6de2d7d",
   "metadata": {},
   "source": [
    "### View by ProteinID:\n",
    "- It is still possible to view by calling the name of the protein with getView_old()\n",
    "- However, the binding sites highlighted do not take different chains into consideration and will give the location for\n",
    "  all available chains\n",
    "- getView_old() is the previous version of the viewer (slightly modified); it's not as useful anymore"
   ]
  },
  {
   "cell_type": "code",
   "execution_count": null,
   "id": "e6dc331d",
   "metadata": {},
   "outputs": [],
   "source": [
    "protID = 'P00350'\n",
    "searchPDB(protID); getView_old(protID)"
   ]
  }
 ],
 "metadata": {
  "kernelspec": {
   "display_name": "Python (snowflakes)",
   "language": "python",
   "name": "snowflakes"
  },
  "language_info": {
   "codemirror_mode": {
    "name": "ipython",
    "version": 3
   },
   "file_extension": ".py",
   "mimetype": "text/x-python",
   "name": "python",
   "nbconvert_exporter": "python",
   "pygments_lexer": "ipython3",
   "version": "3.8.11"
  }
 },
 "nbformat": 4,
 "nbformat_minor": 5
}
