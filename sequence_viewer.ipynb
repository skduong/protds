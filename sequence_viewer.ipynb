{
 "cells": [
  {
   "cell_type": "markdown",
   "id": "93473d19",
   "metadata": {},
   "source": [
    "# View Structure Subsequences "
   ]
  },
  {
   "cell_type": "markdown",
   "id": "f3be56ca",
   "metadata": {},
   "source": [
    "#### Set file name of the dataset, and run this cell once to initialize the program."
   ]
  },
  {
   "cell_type": "code",
   "execution_count": null,
   "id": "5c4bb2ad",
   "metadata": {},
   "outputs": [],
   "source": [
    "from protds.sequence_viewer import *\n",
    "\n",
    "filename = 'labled proteins data set.csv' \n",
    "data = pd.read_csv(os.path.join(\"data\",filename)) "
   ]
  },
  {
   "cell_type": "code",
   "execution_count": null,
   "id": "918507cf",
   "metadata": {},
   "outputs": [],
   "source": [
    "data"
   ]
  },
  {
   "cell_type": "markdown",
   "id": "2804619d",
   "metadata": {},
   "source": [
    "#### Choose any ProteinID to view selected sequences\n",
    "- default color order is: red | yellow | blue | green | (repeated if there are more than 4 columns of intensities)\n",
    "- color is determined by the maximum value amoung those columns\n",
    "- if no numbers exist for the subsequence (only overnight digestion), it is colored cyan   \n",
    "\n",
    "#### Set custom colors by modifying the colors list\n",
    "- the last color is used when no value is present for any time\n",
    "- use hexidecimal color codes: https://www.color-hex.com/"
   ]
  },
  {
   "cell_type": "code",
   "execution_count": null,
   "id": "e7e551ca",
   "metadata": {},
   "outputs": [],
   "source": [
    "proteinID = 'P07339'\n",
    "colors = ['red', 'yellow', 'blue', 'green', 'cyan']\n",
    "\n",
    "getPepView(proteinID, data, colors=colors, table=True) #set table=False to hide the table preview"
   ]
  }
 ],
 "metadata": {
  "kernelspec": {
   "display_name": "Python (snowflakes)",
   "language": "python",
   "name": "snowflakes"
  },
  "language_info": {
   "codemirror_mode": {
    "name": "ipython",
    "version": 3
   },
   "file_extension": ".py",
   "mimetype": "text/x-python",
   "name": "python",
   "nbconvert_exporter": "python",
   "pygments_lexer": "ipython3",
   "version": "3.8.11"
  }
 },
 "nbformat": 4,
 "nbformat_minor": 5
}
