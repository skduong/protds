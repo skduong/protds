{
 "cells": [
  {
   "cell_type": "markdown",
   "id": "dfbb0878",
   "metadata": {},
   "source": [
    "## Packages\n",
    "If \"ModuleNotFound\" errors occur, try running this cell"
   ]
  },
  {
   "cell_type": "code",
   "execution_count": null,
   "id": "370c2c17",
   "metadata": {},
   "outputs": [],
   "source": [
    "pip install -r requirements.txt"
   ]
  },
  {
   "cell_type": "code",
   "execution_count": null,
   "id": "ccc52ff9",
   "metadata": {},
   "outputs": [],
   "source": [
    "conda install git #if git package is missing, run this cell first, then try again"
   ]
  },
  {
   "cell_type": "markdown",
   "id": "ec1be31d",
   "metadata": {},
   "source": [
    "## Get Count of PDB results from FASTA files\n",
    "If the script doesn't work, try running this cell."
   ]
  },
  {
   "cell_type": "code",
   "execution_count": null,
   "id": "fb458cf8",
   "metadata": {},
   "outputs": [],
   "source": [
    "from result_count import *\n",
    "getResultCount()"
   ]
  }
 ],
 "metadata": {
  "kernelspec": {
   "display_name": "Python (snowflakes)",
   "language": "python",
   "name": "snowflakes"
  },
  "language_info": {
   "codemirror_mode": {
    "name": "ipython",
    "version": 3
   },
   "file_extension": ".py",
   "mimetype": "text/x-python",
   "name": "python",
   "nbconvert_exporter": "python",
   "pygments_lexer": "ipython3",
   "version": "3.8.11"
  }
 },
 "nbformat": 4,
 "nbformat_minor": 5
}
