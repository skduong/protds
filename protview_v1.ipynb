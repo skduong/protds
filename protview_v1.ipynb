{
 "cells": [
  {
   "cell_type": "markdown",
   "id": "43767e24",
   "metadata": {},
   "source": [
    "# Setup:\n",
    "- Assign filename and run this cell once to start"
   ]
  },
  {
   "cell_type": "code",
   "execution_count": null,
   "id": "2bb8c9c2",
   "metadata": {},
   "outputs": [],
   "source": [
    "filename = 'Peptide_IndexByID_Version_test.csv'\n",
    "\n",
    "from protview_v1 import * \n",
    "import icn3dpy\n",
    "import pandas as pd \n",
    "\n",
    "data = pd.read_csv('data\\\\'+filename)\n",
    "df = df_mod(data)\n",
    "proteins = {}"
   ]
  },
  {
   "cell_type": "markdown",
   "id": "094d96f8",
   "metadata": {},
   "source": [
    "# 3D Structure View:\n",
    "- Choose a ProteinID\n",
    "  - If it exists in the Protein Data Bank, you will be asked to select a row from the dataset.\n",
    "  - If multiple structures exist for that ID, you will be asked to select one.\n",
    "  \n",
    "- ModifiedLocationNum is colored white\n",
    "- Active and Binding Sites listed on UniProt is highlighted yellow"
   ]
  },
  {
   "cell_type": "code",
   "execution_count": null,
   "id": "dde148d7",
   "metadata": {},
   "outputs": [],
   "source": [
    "ProteinID = 'P15034'\n",
    "\n",
    "searchPDB(ProteinID, proteins); pdb, view = checkDB(ProteinID, proteins, data, df)\n",
    "print(pdb)\n",
    "view"
   ]
  }
 ],
 "metadata": {
  "kernelspec": {
   "display_name": "Python (snowflakes)",
   "language": "python",
   "name": "snowflakes"
  },
  "language_info": {
   "codemirror_mode": {
    "name": "ipython",
    "version": 3
   },
   "file_extension": ".py",
   "mimetype": "text/x-python",
   "name": "python",
   "nbconvert_exporter": "python",
   "pygments_lexer": "ipython3",
   "version": "3.8.11"
  }
 },
 "nbformat": 4,
 "nbformat_minor": 5
}
