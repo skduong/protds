{
 "cells": [
  {
   "cell_type": "markdown",
   "id": "22b145d7",
   "metadata": {},
   "source": [
    "# A Walkthrough of the Code\n",
    "- Information on how the program runs in the background is given here\n",
    "- This is mostly for documentation. (The user doesn't have to be concerned with these details)"
   ]
  },
  {
   "cell_type": "markdown",
   "id": "06ee39a4",
   "metadata": {},
   "source": [
    "# Setup\n",
    "- Code is stored in separate protds_v2.py file for cleaner Notebook use\n",
    "- Start by assigning name of input file (stored in the data folder)\n",
    "- The program refers to entries through column names, so any csv will work as long as the header names contain:  \n",
    "    \"ProteinID\", \"ModifiedLocationNum\", and \"ModifiedSequence\""
   ]
  },
  {
   "cell_type": "markdown",
   "id": "0fd23a3c",
   "metadata": {},
   "source": [
    "<font color='red'>Some warnings may come up due to packages using older function names (or bad practice), but everything still works.   \n",
    "    (Minor issue. Will fix later, if possible)</font> "
   ]
  },
  {
   "cell_type": "code",
   "execution_count": null,
   "id": "923ce9e6",
   "metadata": {},
   "outputs": [],
   "source": [
    "import sys \n",
    "sys.path.append('..')\n",
    "from protds_v2 import *\n",
    "\n",
    "filename = 'Peptide_IndexByID_Version_test.csv'\n",
    "data = pd.read_csv(os.path.join(os.pardir,\"data\",filename))"
   ]
  },
  {
   "cell_type": "code",
   "execution_count": null,
   "id": "e5527b45",
   "metadata": {
    "scrolled": true
   },
   "outputs": [],
   "source": [
    "moddata = data[data['ModifiedLocationNum'].notna()] #select rows with Modifications\n",
    "moddata['ModifiedLocationNum'] = moddata['ModifiedLocationNum'].astype(int) #remove decimals in ModifiedLocationNum \n",
    "moddata "
   ]
  },
  {
   "cell_type": "markdown",
   "id": "4a4b5a7c",
   "metadata": {},
   "source": [
    "- data is now accessable\n",
    "- we'll mostly work with entries that have modifications:"
   ]
  },
  {
   "cell_type": "markdown",
   "id": "c862d9ad",
   "metadata": {},
   "source": [
    "# Fetching Proteins"
   ]
  },
  {
   "cell_type": "markdown",
   "id": "41002367",
   "metadata": {},
   "source": [
    "- The setup code also initializes an empty dictionary called proteins\n",
    "- We can add Proteins to this dictionary to access their info"
   ]
  },
  {
   "cell_type": "code",
   "execution_count": null,
   "id": "48c2be45",
   "metadata": {},
   "outputs": [],
   "source": [
    "proteins #no entries yet"
   ]
  },
  {
   "cell_type": "markdown",
   "id": "9edbe9b8",
   "metadata": {},
   "source": [
    "- The getProteins() function takes in the whole dataset and goes through each row to add new Proteins to the dictionary\n",
    "- In theory, it can process every modified protein in the dataset, but for now, it'll go through the first 4 as an example:\n",
    "- <font color='red'>[This process takes a while. Have not tested if there's a time-out limit]</font> "
   ]
  },
  {
   "cell_type": "code",
   "execution_count": null,
   "id": "1e8811b8",
   "metadata": {},
   "outputs": [],
   "source": [
    "modlist = getProteins(moddata)"
   ]
  },
  {
   "cell_type": "markdown",
   "id": "0c43abbe",
   "metadata": {},
   "source": [
    "## <font color='red'>Future Plans:</font> \n",
    "This step takes the longest; will look into different methods to speed it up (later, if possible):\n",
    "- parallel processing\n",
    "- caching Notebook session "
   ]
  },
  {
   "cell_type": "code",
   "execution_count": null,
   "id": "90c29f8e",
   "metadata": {},
   "outputs": [],
   "source": [
    "proteins #4 Proteins have been stored"
   ]
  },
  {
   "cell_type": "code",
   "execution_count": null,
   "id": "08e1b030",
   "metadata": {},
   "outputs": [],
   "source": [
    "moddata[:8] #the first 4 proteins that we've looked at correspond to these rows:"
   ]
  },
  {
   "cell_type": "markdown",
   "id": "c1f4f18e",
   "metadata": {},
   "source": [
    "For convenience reasons, getProteins() also returns these rows as a list:  \n",
    "(refer to Modified Entries section for details) "
   ]
  },
  {
   "cell_type": "code",
   "execution_count": null,
   "id": "63d47600",
   "metadata": {},
   "outputs": [],
   "source": [
    "modlist #simplifies them as a list"
   ]
  },
  {
   "cell_type": "markdown",
   "id": "d65ba673",
   "metadata": {},
   "source": [
    "## Fetching Individual Proteins"
   ]
  },
  {
   "cell_type": "markdown",
   "id": "b6e80da3",
   "metadata": {},
   "source": [
    "It is possible to add individual proteins through their name with searchPDB():  \n",
    "- getProteins() from before basically loops through searchPDB() for us\n",
    "- [Proteins with a lot of PDB results will take longer to complete]"
   ]
  },
  {
   "cell_type": "code",
   "execution_count": null,
   "id": "03eeb9a3",
   "metadata": {},
   "outputs": [],
   "source": [
    "#example for ProteinIDs Q7DFV3 and P0A7K2\n",
    "searchPDB('Q7DFV3')\n",
    "searchPDB('P0A7K2') #has 20 results; takes a while"
   ]
  },
  {
   "cell_type": "code",
   "execution_count": null,
   "id": "88fd7ae7",
   "metadata": {},
   "outputs": [],
   "source": [
    "# no results for Q7DFV3; P0A7K2 now added to proteins\n",
    "proteins"
   ]
  },
  {
   "cell_type": "markdown",
   "id": "92e0917d",
   "metadata": {},
   "source": [
    "# Accessing Protein Information"
   ]
  },
  {
   "cell_type": "markdown",
   "id": "833523f8",
   "metadata": {},
   "source": [
    "After storing a Protein, its information can be accessed with proteins['ProtID']  \n",
    "Take Protein P00350 for example:"
   ]
  },
  {
   "cell_type": "code",
   "execution_count": null,
   "id": "3ff9e6e8",
   "metadata": {},
   "outputs": [],
   "source": [
    "P00350 = proteins['P00350']; P00350"
   ]
  },
  {
   "cell_type": "markdown",
   "id": "d66a7f45",
   "metadata": {},
   "source": [
    "## Some Information available:"
   ]
  },
  {
   "cell_type": "code",
   "execution_count": null,
   "id": "107fef16",
   "metadata": {},
   "outputs": [],
   "source": [
    "# Full list of features from UniProt\n",
    "P00350.record.features"
   ]
  },
  {
   "cell_type": "code",
   "execution_count": null,
   "id": "36ba0104",
   "metadata": {},
   "outputs": [],
   "source": [
    "#Active/Binding sites:\n",
    "printSites(P00350)"
   ]
  },
  {
   "cell_type": "code",
   "execution_count": null,
   "id": "85542a80",
   "metadata": {},
   "outputs": [],
   "source": [
    "#List of PDB results:\n",
    "P00350.getPDBs()"
   ]
  },
  {
   "cell_type": "markdown",
   "id": "61c11ae8",
   "metadata": {},
   "source": [
    "## Structure Information"
   ]
  },
  {
   "cell_type": "markdown",
   "id": "3da3e0b1",
   "metadata": {},
   "source": [
    "Proteins can have multiple structures associated with them. Our example (P00350) has 3:"
   ]
  },
  {
   "cell_type": "code",
   "execution_count": null,
   "id": "111bf987",
   "metadata": {},
   "outputs": [],
   "source": [
    "P00350.structures #each is a PDB object containing the structure's PDBid (name) and the structure data (coordinates)"
   ]
  },
  {
   "cell_type": "code",
   "execution_count": null,
   "id": "f5d51379",
   "metadata": {},
   "outputs": [],
   "source": [
    "#take the first of these as an example:\n",
    "ex = P00350.structures[0]\n",
    "ex"
   ]
  },
  {
   "cell_type": "code",
   "execution_count": null,
   "id": "547d6019",
   "metadata": {},
   "outputs": [],
   "source": [
    "#name\n",
    "ex.PDBid"
   ]
  },
  {
   "cell_type": "code",
   "execution_count": null,
   "id": "62701ee4",
   "metadata": {},
   "outputs": [],
   "source": [
    "#coordinates\n",
    "ex.structure"
   ]
  },
  {
   "cell_type": "markdown",
   "id": "5b613914",
   "metadata": {},
   "source": [
    "The structures are stored as a biotite.structure, so they can be parsed & analyzed using tools from the biotite package  \n",
    "reference: https://www.biotite-python.org/apidoc/biotite.structure.html#module-biotite.structure  \n",
    "Examples:"
   ]
  },
  {
   "cell_type": "code",
   "execution_count": null,
   "id": "a46eebfd",
   "metadata": {},
   "outputs": [],
   "source": [
    "#getting sequence of chain A \n",
    "chainSeq('A', ex.structure)"
   ]
  },
  {
   "cell_type": "code",
   "execution_count": null,
   "id": "2a3e9975",
   "metadata": {},
   "outputs": [],
   "source": [
    "#checking to see which chains match the entry's ModifiedSequence:\n",
    "print('ModifiedSequence:',modlist[0][2])\n",
    "checkChains(ex.structure, modlist[0])\n",
    "#(Both chains A and B contain the modSequence)"
   ]
  },
  {
   "cell_type": "code",
   "execution_count": null,
   "id": "ee998989",
   "metadata": {},
   "outputs": [],
   "source": [
    "#comparing sequence alignments for chain A and B\n",
    "import biotite.sequence.align as align\n",
    "alignment, order, guide_tree, distance_matrix = align.align_multiple(\n",
    "    [chainSeq('A', ex.structure), chainSeq('B', ex.structure)],\n",
    "    matrix=align.SubstitutionMatrix.std_protein_matrix(),\n",
    "    gap_penalty=-5,\n",
    "    terminal_penalty=False\n",
    ")\n",
    "print(alignment)"
   ]
  },
  {
   "cell_type": "code",
   "execution_count": null,
   "id": "77b2b3eb",
   "metadata": {},
   "outputs": [],
   "source": [
    "#center of mass\n",
    "struc.mass_center(ex.structure)"
   ]
  },
  {
   "cell_type": "code",
   "execution_count": null,
   "id": "f5b0e598",
   "metadata": {},
   "outputs": [],
   "source": [
    "#distance between chain A's and chain B's center of mass\n",
    "A = ex.structure[ex.structure.chain_id=='A']\n",
    "B = ex.structure[ex.structure.chain_id=='B']\n",
    "struc.distance(struc.mass_center(A), struc.mass_center(B))"
   ]
  },
  {
   "cell_type": "markdown",
   "id": "7b4cc4a2",
   "metadata": {},
   "source": [
    "# Modified Entries "
   ]
  },
  {
   "cell_type": "markdown",
   "id": "115c69d2",
   "metadata": {},
   "source": [
    "Most of our analysis involves looking at each row, so it's nice to have quick access to relevant row info\n",
    "- in theory, the final program will look at every row\n",
    "- this example only looked at the first 8 rows (containing the first 4 unique proteins found)"
   ]
  },
  {
   "cell_type": "code",
   "execution_count": null,
   "id": "e100dac5",
   "metadata": {},
   "outputs": [],
   "source": [
    "moddata[:8] #these were rows used for this example"
   ]
  },
  {
   "cell_type": "code",
   "execution_count": null,
   "id": "065221e2",
   "metadata": {},
   "outputs": [],
   "source": [
    "#the list version of these rows come in handy for easy access:\n",
    "modlist "
   ]
  },
  {
   "cell_type": "markdown",
   "id": "fc992e50",
   "metadata": {},
   "source": [
    "These \"entries\" are lists formated:  \n",
    "[ProteinID, ModifiedLocationNum, ModifiedSequence, index] "
   ]
  },
  {
   "cell_type": "markdown",
   "id": "0a6c3de9",
   "metadata": {},
   "source": [
    "When asking for some information about an entry, the default input is usually in this form. For example:\n",
    "- entryView([ProteinID, ModifiedLocationNum, ModifiedSequence, index]) for viewing a row's structure + highlighted sites\n",
    "- entryDist([ProteinID, ModifiedLocationNum, ModifiedSequence, index]) for viewing the distances between the modLocation and sites for a row"
   ]
  },
  {
   "cell_type": "markdown",
   "id": "1cd90092",
   "metadata": {},
   "source": [
    "This is how the program handles row entries in the background. It refers to this list structure rather than the DataFrame rows themselves. Functions like getView() and getDistances() do this conversion internally using checkRow()"
   ]
  },
  {
   "cell_type": "code",
   "execution_count": null,
   "id": "90e1e7e8",
   "metadata": {},
   "outputs": [],
   "source": [
    "#example row 7234:\n",
    "display(moddata.loc[7234].to_frame().T)\n",
    "checkRow(moddata.loc[7234])"
   ]
  }
 ],
 "metadata": {
  "kernelspec": {
   "display_name": "Python (snowflakes)",
   "language": "python",
   "name": "snowflakes"
  },
  "language_info": {
   "codemirror_mode": {
    "name": "ipython",
    "version": 3
   },
   "file_extension": ".py",
   "mimetype": "text/x-python",
   "name": "python",
   "nbconvert_exporter": "python",
   "pygments_lexer": "ipython3",
   "version": "3.8.11"
  }
 },
 "nbformat": 4,
 "nbformat_minor": 5
}
