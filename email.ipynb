{
 "cells": [
  {
   "cell_type": "markdown",
   "id": "88d0c8d2",
   "metadata": {},
   "source": [
    "# Initializations"
   ]
  },
  {
   "cell_type": "code",
   "execution_count": null,
   "id": "395ca580",
   "metadata": {},
   "outputs": [],
   "source": [
    "from protds.site_distances import *\n",
    "\n",
    "data1 = pd.read_csv(os.path.join(\"data\",'ProteinsWithModificationLoc.csv'))\n",
    "data2 = pd.read_csv(os.path.join(\"data\",'HiglightModificationLoc.csv'))"
   ]
  },
  {
   "cell_type": "markdown",
   "id": "271b530f",
   "metadata": {},
   "source": [
    "# Preprocessing"
   ]
  },
  {
   "cell_type": "code",
   "execution_count": null,
   "id": "617f05fe",
   "metadata": {},
   "outputs": [],
   "source": [
    "#convert ModifiedLocation to integers\n",
    "data1['ModifiedLocationNum'] = data1['ModifiedLocation'].apply(lambda x: int(x[1:]))\n",
    "data2['ModifiedLocationNum'] = data2['ModifiedLocation'].apply(lambda x: int(x[1:]))\n",
    "#group modified locations by ProteinID\n",
    "loc1 = data1.groupby('ProteinID')['ModifiedLocationNum'].apply(list)\n",
    "loc2 = data2.groupby('ProteinID')['ModifiedLocationNum'].apply(list)"
   ]
  },
  {
   "cell_type": "markdown",
   "id": "92f993e6",
   "metadata": {},
   "source": [
    "# Storing Structures"
   ]
  },
  {
   "cell_type": "code",
   "execution_count": null,
   "id": "eef55302",
   "metadata": {},
   "outputs": [],
   "source": [
    "for i in data1['ProteinID'].unique():\n",
    "    searchPDB(i)"
   ]
  },
  {
   "cell_type": "markdown",
   "id": "310a9eea",
   "metadata": {},
   "source": [
    "# Structure View\n",
    "- locations from \"ProteinsWithModificationLoc.csv\" colored black\n",
    "- locations from \"HiglightModificationLoc.csv\" colored yellow"
   ]
  },
  {
   "cell_type": "code",
   "execution_count": null,
   "id": "14ed11c7",
   "metadata": {},
   "outputs": [],
   "source": [
    "data2"
   ]
  },
  {
   "cell_type": "code",
   "execution_count": null,
   "id": "bbc406ed",
   "metadata": {},
   "outputs": [],
   "source": [
    "protid = 'P0C0V0' #select a ProteinID from the above dataset\n",
    "emailView(protid, [[i] for i in loc1[protid]], [[i] for i in loc2[protid]])"
   ]
  },
  {
   "cell_type": "markdown",
   "id": "3a696f2a",
   "metadata": {},
   "source": [
    "# Sites\n",
    "Get sites listed on UniProt database"
   ]
  },
  {
   "cell_type": "code",
   "execution_count": null,
   "id": "708621b0",
   "metadata": {},
   "outputs": [],
   "source": [
    "protid = 'P0C0V0' #select a ProteinID from the above dataset\n",
    "printSites(proteins[protid])"
   ]
  },
  {
   "cell_type": "markdown",
   "id": "4fd9aeb4",
   "metadata": {},
   "source": [
    "# Distances\n",
    "Note: ProteinID P08622's first 4 structures only list up to ~80 amino acid positions, so ModifiedLocation or sites are out of that range  "
   ]
  },
  {
   "cell_type": "code",
   "execution_count": null,
   "id": "c6f57693",
   "metadata": {},
   "outputs": [],
   "source": [
    "data2"
   ]
  },
  {
   "cell_type": "code",
   "execution_count": null,
   "id": "cecd2bed",
   "metadata": {
    "scrolled": false
   },
   "outputs": [],
   "source": [
    "rowNum = 5 #select a row from above to get distances between its ModifiedLocation and UniProt sites\n",
    "printDists(emailRow(data2.loc[rowNum]), True)"
   ]
  }
 ],
 "metadata": {
  "kernelspec": {
   "display_name": "Python (snowflakes)",
   "language": "python",
   "name": "snowflakes"
  },
  "language_info": {
   "codemirror_mode": {
    "name": "ipython",
    "version": 3
   },
   "file_extension": ".py",
   "mimetype": "text/x-python",
   "name": "python",
   "nbconvert_exporter": "python",
   "pygments_lexer": "ipython3",
   "version": "3.8.11"
  }
 },
 "nbformat": 4,
 "nbformat_minor": 5
}
